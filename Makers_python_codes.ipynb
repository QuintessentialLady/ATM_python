{
  "nbformat": 4,
  "nbformat_minor": 0,
  "metadata": {
    "colab": {
      "provenance": [],
      "authorship_tag": "ABX9TyNxQ7C8r0SnDbBvQpseqI+7",
      "include_colab_link": true
    },
    "kernelspec": {
      "name": "python3",
      "display_name": "Python 3"
    },
    "language_info": {
      "name": "python"
    }
  },
  "cells": [
    {
      "cell_type": "markdown",
      "metadata": {
        "id": "view-in-github",
        "colab_type": "text"
      },
      "source": [
        "<a href=\"https://colab.research.google.com/github/QuintessentialLady/ATM_python/blob/main/Makers_python_codes.ipynb\" target=\"_parent\"><img src=\"https://colab.research.google.com/assets/colab-badge.svg\" alt=\"Open In Colab\"/></a>"
      ]
    },
    {
      "cell_type": "code",
      "execution_count": 7,
      "metadata": {
        "id": "1IJFpRR6diPo"
      },
      "outputs": [],
      "source": [
        "def is_valid(password):\n",
        "    char = ('!', '@', '$','%','&' )\n",
        "    for char in password:\n",
        "\n",
        "     if char in (password):\n",
        "        print (\"has special character\")\n",
        "     elif len(password) < 8:\n",
        "        print (\"length of character not met, needs to be a minimum of 7\")\n",
        "     else:\n",
        "        return True"
      ]
    },
    {
      "cell_type": "code",
      "source": [
        "def is_valid(password):\n",
        "    special_character = {'!', '@', '$','%','&' }\n",
        "    if (special_character) in password:\n",
        "        print (\"special character condition met\")\n",
        "    elif len(password) < 8:\n",
        "        print (\"length of character not met, needs to be a minimum of 7\")\n",
        "    else:\n",
        "        return True"
      ],
      "metadata": {
        "id": "LIkVTt8Tdtwy"
      },
      "execution_count": 2,
      "outputs": []
    }
  ]
}